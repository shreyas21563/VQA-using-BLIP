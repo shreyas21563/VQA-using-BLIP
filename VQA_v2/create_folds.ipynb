{
 "cells": [
  {
   "cell_type": "code",
   "execution_count": 1,
   "metadata": {},
   "outputs": [],
   "source": [
    "import json"
   ]
  },
  {
   "cell_type": "code",
   "execution_count": 2,
   "metadata": {},
   "outputs": [],
   "source": [
    "questions = json.load(open('Original/Questions.json'))\n",
    "answers = json.load(open('Original/Answers.json'))"
   ]
  },
  {
   "cell_type": "code",
   "execution_count": 3,
   "metadata": {},
   "outputs": [
    {
     "data": {
      "text/plain": [
       "(dict_keys(['info', 'task_type', 'data_type', 'license', 'data_subtype', 'questions']),\n",
       " dict_keys(['info', 'license', 'data_subtype', 'annotations', 'data_type']))"
      ]
     },
     "execution_count": 3,
     "metadata": {},
     "output_type": "execute_result"
    }
   ],
   "source": [
    "questions.keys(), answers.keys()"
   ]
  },
  {
   "cell_type": "code",
   "execution_count": 35,
   "metadata": {},
   "outputs": [],
   "source": [
    "# Creating 10 folds of questions   \n",
    "len_folds = len(questions['questions']) // 10\n",
    "folds = []\n",
    "for i in range(9):\n",
    "    folds.append(questions['questions'][i*len_folds:(i+1)*len_folds])\n",
    "folds.append(questions['questions'][9*len_folds:])\n",
    "\n",
    "# Creating 10 folds of answers\n",
    "len_folds = len(answers['annotations']) // 10\n",
    "folds_answers = []\n",
    "for i in range(9):\n",
    "    folds_answers.append(answers['annotations'][i*len_folds:(i+1)*len_folds])\n",
    "folds_answers.append(answers['annotations'][9*len_folds:])"
   ]
  },
  {
   "cell_type": "code",
   "execution_count": 37,
   "metadata": {},
   "outputs": [],
   "source": [
    "for i in range(10):\n",
    "    json.dump(folds[i], open(f'Folds/Questions/Fold_{i+1}.json', 'w'), indent=4)\n",
    "    json.dump(folds_answers[i], open(f'Folds/Answers/Fold_{i+1}.json', 'w'), indent=4)"
   ]
  }
 ],
 "metadata": {
  "kernelspec": {
   "display_name": "TECPEC",
   "language": "python",
   "name": "python3"
  },
  "language_info": {
   "codemirror_mode": {
    "name": "ipython",
    "version": 3
   },
   "file_extension": ".py",
   "mimetype": "text/x-python",
   "name": "python",
   "nbconvert_exporter": "python",
   "pygments_lexer": "ipython3",
   "version": "3.12.2"
  }
 },
 "nbformat": 4,
 "nbformat_minor": 2
}
